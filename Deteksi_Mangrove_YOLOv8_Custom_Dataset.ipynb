{
  "nbformat": 4,
  "nbformat_minor": 0,
  "metadata": {
    "colab": {
      "provenance": [],
      "gpuType": "T4",
      "include_colab_link": true
    },
    "kernelspec": {
      "name": "python3",
      "display_name": "Python 3"
    },
    "language_info": {
      "name": "python"
    },
    "accelerator": "GPU"
  },
  "cells": [
    {
      "cell_type": "markdown",
      "metadata": {
        "id": "view-in-github",
        "colab_type": "text"
      },
      "source": [
        "<a href=\"https://colab.research.google.com/github/putriseptianabilah/deteksi_mangrove/blob/main/Deteksi_Mangrove_YOLOv8_Custom_Dataset.ipynb\" target=\"_parent\"><img src=\"https://colab.research.google.com/assets/colab-badge.svg\" alt=\"Open In Colab\"/></a>"
      ]
    },
    {
      "cell_type": "markdown",
      "source": [
        "**LANGKAH 1 : Persiapan trainning Model**\n",
        "\n",
        "**Pastikan sebelum memulai untuk simpan salinan pada google drive dikarenakan pada pada saat menggunakan dengan GitHub tidak akan tersimpan permanen.**\n",
        "\n",
        "Hubungkan terlebih dahulu google colab dengan google drive kemudian ubah runtime dengan GPU agar dalam proses training menjadi lebih cepat.\n",
        "\n",
        "setelah itu, install ultralytics terlebih dahulu dengan perintah sebagai berikut:"
      ],
      "metadata": {
        "id": "Vin6dpfCDilf"
      }
    },
    {
      "cell_type": "code",
      "source": [
        "from google.colab import drive\n",
        "drive.mount('/content/drive')"
      ],
      "metadata": {
        "id": "zdq3p710lTEl"
      },
      "execution_count": null,
      "outputs": []
    },
    {
      "cell_type": "code",
      "execution_count": null,
      "metadata": {
        "id": "5jqeCfmq5OZ_"
      },
      "outputs": [],
      "source": [
        "!pip install ultralytics"
      ]
    },
    {
      "cell_type": "markdown",
      "source": [
        "**LANGKAH 2 : Mulai Trainning**\n",
        "\n",
        "jalankan perintah untuk mengimport ultralytics"
      ],
      "metadata": {
        "id": "xXxTMIXCFnd0"
      }
    },
    {
      "cell_type": "code",
      "source": [
        "import ultralytics\n",
        "ultralytics.checks()"
      ],
      "metadata": {
        "id": "qP-mrpwI5cz3"
      },
      "execution_count": null,
      "outputs": []
    },
    {
      "cell_type": "markdown",
      "source": [
        "**LANGKAH 3 : Trainning dataset**\n",
        "\n",
        "jalankan perintah untuk mengtrain dataset, kemudian masukkan data.yml yang sudah diedit pada bagian train dan val dengan memasukan alamat penyimpanan yang sesuai pada drive.\n",
        "\n",
        "untuk memasukan data drive dapat dilakukan dengan mengklik pada menu bagian drive > dilanjut my drive > kemudian copy path pada data.yaml\n",
        "\n",
        "**data dibawah hanya berupa contoh dipastikan sebelum menjalankan trainning harap diubah terlebih dahulu**"
      ],
      "metadata": {
        "id": "VYJw5jdbGgIT"
      }
    },
    {
      "cell_type": "code",
      "source": [
        "!yolo detect train data= /content/drive/MyDrive/data.yaml"
      ],
      "metadata": {
        "id": "knmfSRLf5c3H"
      },
      "execution_count": null,
      "outputs": []
    },
    {
      "cell_type": "markdown",
      "source": [
        "**LANGKAH 4 : Testing Dataset**\n",
        "\n",
        "pada saat akan melakukan pengujian dataset diharapkan copy path(salin jalur) terlebih dahulu pada folder **best.pt** dan lakukan pada file gambar yang akan di uji coba\n",
        "\n",
        "**file best.pt daan file gambar dibawah ini hanya berupa contoh dipastikan jika ingin mencoba ujicoba untuk diubah terlebih dahulu**\n",
        "\n",
        "ujicoba dataset dari hasil trainning dengan menggunakan perintah sebagai berikut:"
      ],
      "metadata": {
        "id": "lQU8zNiCDhNI"
      }
    },
    {
      "cell_type": "code",
      "source": [
        "!yolo detect predict model=/content/runs/detect/train/weights/best.pt source=/content/sone alba.jpg save=true"
      ],
      "metadata": {
        "id": "bJDOegnF5c6B"
      },
      "execution_count": null,
      "outputs": []
    }
  ]
}